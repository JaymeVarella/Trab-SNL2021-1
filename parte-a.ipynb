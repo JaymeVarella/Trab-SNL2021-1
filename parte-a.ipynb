{
 "cells": [
  {
   "cell_type": "code",
   "execution_count": null,
   "metadata": {
    "colab": {
     "base_uri": "https://localhost:8080/"
    },
    "id": "oT8m7BMrauQN",
    "outputId": "9e6d1a01-c8a7-441c-ad46-a3818f9bdad3"
   },
   "outputs": [],
   "source": [
    "import numpy as np\n",
    "from scipy import signal\n",
    "import matplotlib.pyplot as plt\n",
    "from scipy.integrate import odeint\n",
    "from scipy import interpolate\n",
    "import itertools\n",
    "\n",
    "graph_const = {\n",
    "    'titleSize': 18,\n",
    "    'labelSize': 16,\n",
    "    'titlePad': 20,\n",
    "    'labelPad': 20,\n",
    "    'dpi': 300\n",
    "}"
   ]
  },
  {
   "cell_type": "code",
   "execution_count": null,
   "metadata": {},
   "outputs": [],
   "source": [
    "def plot_phase_plane(X0_arrows, model, args, t0=0, t_curves=None, X0_curves=None, cmap=None):\n",
    "  initial_states = [(i, j) \n",
    "                    for i in X0_arrows[0]\n",
    "                    for j in X0_arrows[1]]\n",
    "\n",
    "  x = []\n",
    "  y = []\n",
    "  dx = []\n",
    "  dy = []\n",
    "\n",
    "  for w0 in initial_states:\n",
    "    w = model(w0, t0, *args)\n",
    "    x.append(w0[0])\n",
    "    y.append(w0[1])\n",
    "    dx.append(w[0])\n",
    "    dy.append(w[1])\n",
    "\n",
    "  dx = np.array(dx)\n",
    "  dy = np.array(dy)\n",
    "  abs_derivate = np.sqrt(np.square(dx) + np.square(dy))\n",
    "\n",
    "  dx_norm = dx / abs_derivate\n",
    "  dy_norm = dy / abs_derivate\n",
    "\n",
    "  # Plotting Vector Field with QUIVER\n",
    "  if cmap == None:\n",
    "    cmap = matplotlib.cm.get_cmap('hot')\n",
    "\n",
    "  plt.axes([0.025, 0.025, 0.95, 0.95])\n",
    "  plt.quiver(x, y, dx_norm, dy_norm, abs_derivate, angles='xy', pivot='middle', alpha=.8, cmap=cmap)\n",
    "  plt.quiver(x, y, dx_norm, dy_norm, edgecolor='k', angles='xy', facecolor='None', linewidth=.1, pivot='middle')\n",
    "\n",
    "  # Plota algumas curvas apenas para ilustrar\n",
    "  if not (t_curves is None or X0_curves is None):\n",
    "    ys = np.linspace(-4, 4, 4)\n",
    "    Dys = np.linspace(-10, 10, 6)\n",
    "\n",
    "    for w0 in itertools.product(*X0_curves):\n",
    "      w = odeint(model, w0, t_curves, args=args)\n",
    "      plt.plot(w[:,0], w[:,1], color='blue', linewidth=1)\n",
    "\n",
    "  # Configura as anotações e informações adicionais do gráfico\n",
    "  sm = plt.cm.ScalarMappable(cmap=cmap, norm=plt.Normalize(vmin=min(abs_derivate), vmax=max(abs_derivate)))\n",
    "  # plt.colorbar(sm, shrink=0.6, label=r'$abs(\\dot{x})$')\n",
    "\n",
    "  # Setting x, y boundary limits\n",
    "  x_min = min(X0_arrows[0])\n",
    "  x_max = max(X0_arrows[0])\n",
    "  x_step = (x_max - x_min) / (len(X0_arrows[0]) - 1)\n",
    "\n",
    "  y_min = min(X0_arrows[1])\n",
    "  y_max = max(X0_arrows[1])\n",
    "  y_step = (y_max - y_min) / (len(X0_arrows[1]) - 1)\n",
    "\n",
    "  plt.xlim(x_min - x_step, x_max + x_step)\n",
    "  plt.ylim(y_min - y_step, y_max + y_step)"
   ]
  },
  {
   "cell_type": "markdown",
   "metadata": {},
   "source": [
    "# i)"
   ]
  },
  {
   "cell_type": "code",
   "execution_count": null,
   "metadata": {},
   "outputs": [],
   "source": [
    "k = 5\n",
    "\n",
    "def sign(x):\n",
    "    return 2/np.pi*np.arctan(20*x)\n",
    "    # return np.sign(x)\n",
    "\n",
    "def signal_v(x):\n",
    "    return x[0] + 4*x[0]**3 - k*sign(x[0] + x[1])\n",
    "\n",
    "def sys1(x, t):\n",
    "    # Regra de controle\n",
    "    v = signal_v(x)\n",
    "    #v = 0\n",
    "\n",
    "    # Equação de estados\n",
    "    Dx = (\n",
    "        x[1],\n",
    "        v - (x[1] + x[0] + 4*x[0]**3)\n",
    "    )\n",
    "\n",
    "    return Dx"
   ]
  },
  {
   "cell_type": "code",
   "execution_count": null,
   "metadata": {},
   "outputs": [],
   "source": [
    "t = np.linspace(0, 50, 10000)\n",
    "\n",
    "X0_arrows = [\n",
    "  np.linspace(-3, 3, 17),\n",
    "  np.linspace(-3, 3, 17)\n",
    "]\n",
    "\n",
    "X0_curves = (\n",
    "  np.linspace(-3, 3, 3),\n",
    "  np.linspace(-3, 3, 3)\n",
    ")\n",
    "\n",
    "plt.figure(figsize=(5,4.2))\n",
    "\n",
    "#plot_phase_plane(X0_arrows, sys1, args=(), t_curves=t, X0_curves=X0_curves)\n",
    "plot_phase_plane(X0_arrows, sys1, args=(), t_curves=t, X0_curves=[[0],[-3]])\n",
    "#plot_phase_plane(X0_arrows, sys1, args=())\n",
    "\n",
    "#plt.plot([0,-2,2] , [0,0,0], 'bo', label='Pontos de Equilíbrio')\n",
    "\n",
    "plt.title(f'Plano de fase (k = {k})', fontdict={'fontsize': graph_const['titleSize']}, pad=graph_const['titlePad'])\n",
    "plt.xlabel(r'$y$', {'fontsize': graph_const['labelSize']}, labelpad=graph_const['labelPad'])\n",
    "plt.ylabel(r'$\\dot{y}$', {'fontsize': graph_const['labelSize']}, labelpad=graph_const['labelPad'], rotation='horizontal')\n",
    "\n",
    "# Mostra e salva a figura\n",
    "plt.savefig(f'images/parte-a-1-plano-de-fase-k{k}.png', dpi=graph_const['dpi'], bbox_inches='tight')"
   ]
  },
  {
   "cell_type": "code",
   "execution_count": null,
   "metadata": {},
   "outputs": [],
   "source": [
    "plt.figure(figsize=(8,4))\n",
    "\n",
    "x0 = [1, 1]\n",
    "x = odeint(model, x0, t, args=(A,))\n",
    "y = x[:,0]\n",
    "Dy = x[:,1]\n",
    "plt.plot(t, y, linewidth=1)\n",
    "\n",
    "plt.title(f'Evolução do sistema no tempo (k = {k})', fontdict={'fontsize': graph_const['titleSize']}, pad=graph_const['titlePad'])\n",
    "plt.xlabel(r'$t$', {'fontsize': graph_const['labelSize']}, labelpad=graph_const['labelPad'])\n",
    "plt.ylabel(r'$y$', {'fontsize': graph_const['labelSize']}, labelpad=graph_const['labelPad'], rotation='horizontal')\n",
    "\n",
    "plt.savefig(f'images/parte-a-1-y-t-k{k}.png', dpi=graph_const['dpi'])"
   ]
  },
  {
   "cell_type": "markdown",
   "metadata": {},
   "source": [
    "# ii)"
   ]
  },
  {
   "cell_type": "code",
   "execution_count": null,
   "metadata": {},
   "outputs": [],
   "source": [
    "# Modelo do sistema\n",
    "def model_ii(x, t):\n",
    "    # Regra de controle\n",
    "    v = x[0] + 4*x[0]**3 \n",
    "    #v = 0\n",
    "    \n",
    "    # Perturbação externa aditiva\n",
    "    v += 0.1*np.random.randn()\n",
    "    \n",
    "    # Derivadas do estado\n",
    "    Dx = (\n",
    "        x[1],\n",
    "        v - (x[1] + x[0] + 4*x[0]**3)\n",
    "    )\n",
    "\n",
    "    return Dx"
   ]
  },
  {
   "cell_type": "code",
   "execution_count": null,
   "metadata": {
    "scrolled": true
   },
   "outputs": [],
   "source": [
    "t = np.linspace(0, 5, 10000)\n",
    "\n",
    "X0_arrows = [\n",
    "  np.linspace(-3, 3, 25),\n",
    "  np.linspace(-3, 3, 25)\n",
    "]\n",
    "\n",
    "X0_curves = (\n",
    "  np.linspace(-3, 3, 3),\n",
    "  np.linspace(-3, 3, 3)\n",
    ")\n",
    "\n",
    "plt.figure(figsize=(7,5.4))\n",
    "\n",
    "#plot_phase_plane(X0_arrows, model_ii, args=(), t_curves=t, X0_curves=X0_curves)\n",
    "plot_phase_plane(X0_arrows, model_ii, args=())\n",
    "\n",
    "#plt.plot([0,-2,2] , [0,0,0], 'bo', label='Pontos de Equilíbrio')\n",
    "\n",
    "plt.title(f'Plano de fase', fontdict={'fontsize': graph_const['titleSize']}, pad=graph_const['titlePad'])\n",
    "plt.xlabel(r'$y$', {'fontsize': graph_const['labelSize']}, labelpad=graph_const['labelPad'])\n",
    "plt.ylabel(r'$\\dot{y}$', {'fontsize': graph_const['labelSize']}, labelpad=graph_const['labelPad'], rotation='horizontal')\n",
    "plt.legend()\n",
    "\n",
    "# Mostra e salva a figura\n",
    "plt.savefig(f'images/Q8-plano-de-fase.png', dpi=graph_const['dpi'], bbox_inches='tight')"
   ]
  },
  {
   "cell_type": "code",
   "execution_count": null,
   "metadata": {},
   "outputs": [],
   "source": []
  },
  {
   "cell_type": "code",
   "execution_count": null,
   "metadata": {},
   "outputs": [],
   "source": []
  }
 ],
 "metadata": {
  "colab": {
   "name": "Lista1.ipynb",
   "provenance": []
  },
  "kernelspec": {
   "display_name": "Python 3",
   "language": "python",
   "name": "python3"
  },
  "language_info": {
   "codemirror_mode": {
    "name": "ipython",
    "version": 3
   },
   "file_extension": ".py",
   "mimetype": "text/x-python",
   "name": "python",
   "nbconvert_exporter": "python",
   "pygments_lexer": "ipython3",
   "version": "3.8.5"
  }
 },
 "nbformat": 4,
 "nbformat_minor": 1
}
